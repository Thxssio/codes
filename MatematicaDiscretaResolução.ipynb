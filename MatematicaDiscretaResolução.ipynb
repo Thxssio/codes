{
  "nbformat": 4,
  "nbformat_minor": 0,
  "metadata": {
    "colab": {
      "provenance": [],
      "authorship_tag": "ABX9TyMw3Pd1Uu91qzuqaMEdNpgR",
      "include_colab_link": true
    },
    "kernelspec": {
      "name": "python3",
      "display_name": "Python 3"
    },
    "language_info": {
      "name": "python"
    }
  },
  "cells": [
    {
      "cell_type": "markdown",
      "metadata": {
        "id": "view-in-github",
        "colab_type": "text"
      },
      "source": [
        "<a href=\"https://colab.research.google.com/github/Thxssio/codes/blob/main/MatematicaDiscretaResolu%C3%A7%C3%A3o.ipynb\" target=\"_parent\"><img src=\"https://colab.research.google.com/assets/colab-badge.svg\" alt=\"Open In Colab\"/></a>"
      ]
    },
    {
      "cell_type": "markdown",
      "source": [
        "\n",
        "* **Universidade Federal do Rio Grande - FURG**\n",
        "* **Centro de ciências computacionais - C3**\n",
        "* **Matemática Discreta - Turma C**\n",
        "* **Atividade Avaliada 4º Bimestre - Parte 1**\n",
        "\n",
        "                            Matricula: 150891    Aluno: Thássio Gomes Silva\n"
      ],
      "metadata": {
        "id": "pTDCofK7O8qt"
      }
    },
    {
      "cell_type": "markdown",
      "source": [
        "***Questão 1:***\n",
        "\n",
        "\n",
        "---\n",
        "\n",
        "\n",
        "        (1.0 ponto) Escreva uma função em Python para calcular o valor\n",
        "        de um número (escolhido pelo usuário) da sequência de Fibonacc utilizando \n",
        "        recursão, explique cada passo da implementação. \n",
        "\n",
        "---\n",
        "\n"
      ],
      "metadata": {
        "id": "9S84zb6NTkBN"
      }
    },
    {
      "cell_type": "code",
      "execution_count": null,
      "metadata": {
        "id": "Lapyk6ZIB0bf"
      },
      "outputs": [],
      "source": [
        "\"\"\"\n",
        "Codigo foi construido de forma de recursão, onde vamos eliminando valores com verificaçoes if e elif, se o valor for menor que zero, já é uma verifação, ou seja, não é possivel ser uma fibonacci, \n",
        "por ser menor que zero. No segundo caso, se for 0, a fibonnaci de 0 é 0 então retornamos o valor 0; E no ultimo caso, se for 1 ou 2, a fibonnaci padrão desse numero é 1 então retornamos o valor 1;\n",
        "No fim, usamos a equação da fibonacci para calcular e pecorrer a lista da tabela de fibonacci para retornamos o valor do termo que estamos procurando.\n",
        "\n",
        "\n",
        "\"\"\"\n",
        "\n",
        "\n",
        "def Fibonacci(n):\n",
        "    if n < 0:\n",
        "        print(\"Valor menor que zero, tente valores maiores que o.\") # Aqui vamos ter um retorno se o valor for menor que zero, impossibilitando de calcular a  fibonacci por ser um valor menor que zero. \n",
        " \n",
        "    elif n == 0:\n",
        "        return 0  # Aqui teremos um retono igual a zero, pois a fibonaccide  zero é igual a zero.\n",
        " \n",
        "    elif n == 1 or n == 2:\n",
        "        return 1 # A fibonacci de 1 ou 2, é igual a 1, por ser a soma do termo anterio igual a ele mesmo.\n",
        " \n",
        "    else:\n",
        "        return Fibonacci(n-1) + Fibonacci(n-2) # Se nenhum caso acima for verdadeiro, calculamos de acordo com a equação da fibonacci."
      ]
    },
    {
      "cell_type": "markdown",
      "source": [
        "**Executavel:**"
      ],
      "metadata": {
        "id": "wdOkU6-xZCOI"
      }
    },
    {
      "cell_type": "code",
      "source": [
        "\n",
        "print(Fibonacci(int(input(\"Digite um Valor maior que zero: \")))) # (01) - Primeira questão | Valor de fibonacci"
      ],
      "metadata": {
        "id": "3xMzY-IZK57s"
      },
      "execution_count": null,
      "outputs": []
    },
    {
      "cell_type": "markdown",
      "source": [],
      "metadata": {
        "id": "eeYcDslPZPTs"
      }
    },
    {
      "cell_type": "markdown",
      "source": [],
      "metadata": {
        "id": "cMKXf9yGZPgG"
      }
    },
    {
      "cell_type": "markdown",
      "source": [],
      "metadata": {
        "id": "PckZeVR6ZPrX"
      }
    },
    {
      "cell_type": "markdown",
      "source": [
        "***Questão 2:***\n",
        "\n",
        "\n",
        "---\n",
        "\n",
        "\n",
        "        (1.0 ponto) Escreva uma função em Python para calcular o valor do fatorial\n",
        "        de um número (escolhido pelo usuário) utilizando recursão, explique cada\n",
        "        passo da implementação.\n",
        "\n",
        "---"
      ],
      "metadata": {
        "id": "Ug6i3_FPUnvs"
      }
    },
    {
      "cell_type": "code",
      "source": [
        "\"\"\"\n",
        "\n",
        "Codigo foi construido de forma de recursão, onde vamos eliminando valores com if e else, os valores retornam de acordo com o valor inserido, se caso for inserido zero ou um,\n",
        "o resultado será um, por padrão na fatoria os valores zero e um a fatorial deles é um, se caso não for, resolvemos retornando para equação da fatorial.\n",
        "\n",
        "\n",
        "\"\"\"\n",
        "\n",
        "\n",
        "def Fatorial(n):  # Definição \n",
        "    if n == 0 or n == 1: # a fatorial de 0 é 1 e fatorial de 1 é 1, por isso vamo usar como primeiro termos.\n",
        "        return 1 # Retorna 1 se esse cas for verdadeiro.\n",
        "    else:\n",
        "        return n * fatorial(n - 1) # Vamos usar a equação para descobrir a fatorial.\n",
        "    \n",
        "\n",
        "    "
      ],
      "metadata": {
        "id": "6NzYQULmP00c"
      },
      "execution_count": 11,
      "outputs": []
    },
    {
      "cell_type": "markdown",
      "source": [
        "**Executavel:**"
      ],
      "metadata": {
        "id": "f4RL6_0SZUzm"
      }
    },
    {
      "cell_type": "code",
      "source": [
        "print(\"O Valor da Fatorial é: \", Fatorial(int(input('Digite um Valor da fatorial: ')))) # (02) - Segunda questão | Fatorial"
      ],
      "metadata": {
        "colab": {
          "base_uri": "https://localhost:8080/"
        },
        "id": "YqEquIe4SyJi",
        "outputId": "dd0dddf8-ef33-4c8f-b5b4-0d217dd3d1ea"
      },
      "execution_count": 13,
      "outputs": [
        {
          "output_type": "stream",
          "name": "stdout",
          "text": [
            "Digite um Valor da fatorial: 10\n",
            "O Valor da Fatorial é:  3628800\n"
          ]
        }
      ]
    },
    {
      "cell_type": "markdown",
      "source": [],
      "metadata": {
        "id": "-UCOMy-aZZMa"
      }
    },
    {
      "cell_type": "markdown",
      "source": [],
      "metadata": {
        "id": "Hf260bHhZZbK"
      }
    },
    {
      "cell_type": "markdown",
      "source": [],
      "metadata": {
        "id": "r6fV8nyZl85O"
      }
    },
    {
      "cell_type": "markdown",
      "source": [
        "***Questão 3:***\n",
        "\n",
        "\n",
        "---\n",
        "\n",
        "\n",
        "        (2.0 pontos) Resolva os problemas 1 e 2, porém desta vez sem utilizar\n",
        "        recursão (utilize laços de repetição), explique cada passo da implementação.\n",
        "\n",
        "---"
      ],
      "metadata": {
        "id": "DnKjJYGdYf5I"
      }
    },
    {
      "cell_type": "markdown",
      "source": [
        "***Problema 1***:"
      ],
      "metadata": {
        "id": "ApZc93OQnV6g"
      }
    },
    {
      "cell_type": "code",
      "source": [
        "\"\"\"\n",
        "[ 0, 1, 1, 2, 3, 5, 8, 13... ] - Sequencia Fibonacci\n",
        "\n",
        "Nesse caso estamos usando um laço while.\n",
        "\n",
        "\"\"\"\n",
        "  \n",
        "\n",
        "def fibonacci(n):\n",
        "    \n",
        "    termo1 = 0 # Primeiro termo\n",
        "    termo2 = 1 # Segundo termo\n",
        "    cont = 2   # Contador\n",
        "\n",
        "    while cont <= n:\n",
        "        termo3 = termo1 + termo2\n",
        "        termo1 = termo2\n",
        "        termo2 = termo3\n",
        "        cont +=1\n",
        "    print(termo3)\n",
        "\n"
      ],
      "metadata": {
        "id": "DY5aovvHnS8x"
      },
      "execution_count": null,
      "outputs": []
    },
    {
      "cell_type": "markdown",
      "source": [
        "***Executavel:***"
      ],
      "metadata": {
        "id": "sqeGWwXlrvkI"
      }
    },
    {
      "cell_type": "code",
      "source": [
        "\n",
        "fibonacci(int(input(\"Valor da fibonacci: \")))"
      ],
      "metadata": {
        "id": "D5v6alQ4piPG"
      },
      "execution_count": null,
      "outputs": []
    },
    {
      "cell_type": "markdown",
      "source": [
        "***Problema 2***:"
      ],
      "metadata": {
        "id": "4YaUuvrWnjS0"
      }
    },
    {
      "cell_type": "code",
      "source": [
        "\"\"\"\n",
        "\n",
        "Nesse caso estamos usando um laço while.\n",
        "\n",
        "\"\"\"\n",
        "\n",
        "def fatorial(n): # Definição de fatorial\n",
        "    fat = 1 \n",
        "    i = 2\n",
        "    \n",
        "    while i <= n: # laço while, vai ser execultado até que o valor sejá igual ou menor que o valor de entrada.\n",
        "\n",
        "        fat = fat*i # Valor fatorial é igual fatorial * i, onde i é usado para pecorrer até a nossa fatorial.\n",
        "\n",
        "        i = i + 1  # O i sempre vai somar mais 1 até igualar com nosso valor de entrada.\n",
        "\n",
        "    print(\"O valor de %d! é =\" %n, fat) # Exibindo o ultimo valor da fatorial."
      ],
      "metadata": {
        "id": "mu9ZfbvJnm4O"
      },
      "execution_count": 18,
      "outputs": []
    },
    {
      "cell_type": "markdown",
      "source": [
        "***Executavel:***"
      ],
      "metadata": {
        "id": "HxEUlwHdr2TW"
      }
    },
    {
      "cell_type": "code",
      "source": [
        "print(fatorial(int(input('Digite um Valor da fatorial: '))))"
      ],
      "metadata": {
        "id": "WGlOoQ82oI3x",
        "colab": {
          "base_uri": "https://localhost:8080/"
        },
        "outputId": "621079cb-0620-45ad-f933-083b02af0e16"
      },
      "execution_count": 20,
      "outputs": [
        {
          "output_type": "stream",
          "name": "stdout",
          "text": [
            "Digite um Valor da fatorial: 10\n",
            "O valor de 10! é =\n",
            "None\n"
          ]
        }
      ]
    },
    {
      "cell_type": "markdown",
      "source": [],
      "metadata": {
        "id": "7KbxyEWbsHpz"
      }
    },
    {
      "cell_type": "markdown",
      "source": [],
      "metadata": {
        "id": "7YxyBtE0sJ2r"
      }
    },
    {
      "cell_type": "markdown",
      "source": [],
      "metadata": {
        "id": "V45tBsq1sKBo"
      }
    },
    {
      "cell_type": "markdown",
      "source": [
        "***Questão 4:***\n",
        "\n",
        "\n",
        "---\n",
        "\n",
        "\n",
        "        (1.0 ponto) Disserte sobre as principais diferenças de implementação \n",
        "        qual você achou mais fácil de resolver? Qual você considera mais \n",
        "        eficiente e porquê? Utilize o conhecimento adquirido nesta e nas outras \n",
        "        disciplinas para argumentar sobre.\n",
        "\n",
        "---"
      ],
      "metadata": {
        "id": "JjtexmH2sKVl"
      }
    },
    {
      "cell_type": "markdown",
      "source": [
        "***Resposta:***\n",
        "    \n",
        "      A principal diferença do modo recusivo nas linguagens de programação\n",
        "      é a facilidade de chamar algoritimos prontos e a facilidade de\n",
        "      emplementar em outro codigos. Além de nosso codigo ficar mais\n",
        "      otimizado, podemos trabalhar com mais casos, isso facilita bastante.\n",
        "      Ao inves de emplementar varias vezes o mesmo codigo, podemos trabalhar\n",
        "      com o retorno dessas funçoes. \n"
      ],
      "metadata": {
        "id": "dOq0CNyOsft3"
      }
    }
  ]
}